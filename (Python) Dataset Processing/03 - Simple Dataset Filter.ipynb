{
 "cells": [
  {
   "cell_type": "markdown",
   "id": "c72c483f",
   "metadata": {},
   "source": [
    "# Dataset Simple Filter Creation\n",
    "This section will focus on establishing a simple filter based on mean and standard deviation of pixel values of the tiled sildes to establish a filter that would select images with GOOD, PARTIAL or BLANK tissues within the tiles generated. This filter exploits the average pixel value found within the tile images and gets the average mean and standard deviation of a tile that fits in the category. Note: The intial data used was manually seperated into GOOD PARTIAL and BLANK folders.\n",
    "#### Category\n",
    "* Good - Tiles that have greater than 80% tissue\n",
    "* Partial -  Tiles that have less than 80% tissue\n",
    "* Blank - Tiles that have no tissue at all"
   ]
  },
  {
   "cell_type": "markdown",
   "id": "01788c66",
   "metadata": {},
   "source": [
    "#### Importing Required Libraries"
   ]
  },
  {
   "cell_type": "code",
   "execution_count": 21,
   "id": "5de010c4",
   "metadata": {},
   "outputs": [],
   "source": [
    "import os\n",
    "openslide_path = r\"C:\\Users\\aaron\\openslide-win64-20171122\\openslide-win64-20171122\\bin\"\n",
    "os.environ['PATH'] = openslide_path + \";\" + os.environ['PATH']\n",
    "from openslide import open_slide\n",
    "import openslide\n",
    "from PIL import Image\n",
    "import numpy as np\n",
    "from matplotlib import pyplot as plt\n",
    "import tifffile as tiff\n",
    "import glob\n",
    "%matplotlib inline"
   ]
  },
  {
   "cell_type": "markdown",
   "id": "e300927e",
   "metadata": {},
   "source": [
    "#### Loading in the dataset\n",
    "The dataset was loaded from a tile whole slide image which was manually seperated into Good, Partial, and Blank. Library glob was used to iterate over the all the .tiff file inside the folder and subfolders. Note: This could also be done with OS.walk similar to what was done on Section 1"
   ]
  },
  {
   "cell_type": "code",
   "execution_count": 29,
   "id": "8fdd3e9e",
   "metadata": {},
   "outputs": [],
   "source": [
    "good_dir = (glob.glob(\"C:/Users/aaron/Image_3/Good/*.tiff\")) # Manually seperated directory for images with >80% objects in the image\n",
    "blank_dir = (glob.glob(\"C:/Users/aaron/Image_3/Blank/*.tiff\")) # Manually seperated directory for images with little to no objects in the image\n",
    "partial_dir = (glob.glob(\"C:/Users/aaron/Image_3/Partial/*.tiff\")) # Manually seperated directory for images with <80% objects in the image\\"
   ]
  },
  {
   "cell_type": "markdown",
   "id": "31a69a3d",
   "metadata": {},
   "source": [
    "#### Getting the Pixel Values of the Image\n",
    "Since we want to figure out the amount of tissue slide in the tiled images, one way of doing it is by taking advantage of pixel values since we would know that blank tiles would have higher mean and lower standard deviation this is because white pixels tend to have higher values and the lack of deviation between the pixel values since everything is white. On the other hand, good pixels would have lower pixel values since the pixel would have a darker shade and have higher standard deviation since the tiles would have much further range of pixel values."
   ]
  },
  {
   "cell_type": "code",
   "execution_count": 24,
   "id": "f9b91d8a",
   "metadata": {},
   "outputs": [],
   "source": [
    "def mean_std_pixel(img_list): # Creating a function\n",
    "    avg_px_value = [] # Creating a blank list\n",
    "    std_px_value = [] # Creating a blank list\n",
    "    for file in img_list: # Creating a while loop that will go over the list of tiff files from the step above\n",
    "        image = tiff.imread(file) # Reading the tiff files\n",
    "        avg = image.mean() # Getting the mean of pixel values of the image\n",
    "        std = image.std() # Getting the standard deviation of pixel values of the image\n",
    "        avg_px_value.append(avg) # Putting the gathered mean of the image into the blank list\n",
    "        std_px_value.append(std) # Putting the gathered standard deviation of the image into the blank list\n",
    "        # The blank list above will slowly be filled up with the values of every image\n",
    "    avg_px_value = np.array(avg_px_value) # converting the list into an array\n",
    "    std_px_value = np.array(std_px_value) # converting the list into an array \n",
    "    print(\"Average pixel value for all images is: \",avg_px_value.mean()) # getting the mean of the array\n",
    "    print(\"Average standard deviation of pixel values for all images is: \",std_px_value.mean()) # getting the mean of the array\n",
    "    return(avg_px_value,std_px_value)"
   ]
  },
  {
   "cell_type": "markdown",
   "id": "08c565b6",
   "metadata": {},
   "source": [
    "#### Good Images\n",
    "Getting the mean and standard deviation of good images which is done with the function created above"
   ]
  },
  {
   "cell_type": "code",
   "execution_count": 26,
   "id": "7999eaa8",
   "metadata": {},
   "outputs": [
    {
     "name": "stdout",
     "output_type": "stream",
     "text": [
      "Average pixel value for all images is:  169.85473363017033\n",
      "Average standard deviation of pixel values for all images is:  72.60558665914053\n"
     ]
    }
   ],
   "source": [
    "goodmean,goodstd = mean_std_pixel(good_dir) # Getting the mean and std from good images"
   ]
  },
  {
   "cell_type": "code",
   "execution_count": null,
   "id": "2d8caf3b",
   "metadata": {},
   "outputs": [],
   "source": [
    "gmean = np.mean(goodmean) # Getting the average value for mean\n",
    "gstd = np.mean(goodstd) # Getting the average value for std\n",
    "print(\"Average pixel value\",gmean) # Results\n",
    "print(\"Average Standard Deviation\",gstd) # Results"
   ]
  },
  {
   "cell_type": "markdown",
   "id": "fb688dee",
   "metadata": {},
   "source": [
    "#### Blank Images"
   ]
  },
  {
   "cell_type": "code",
   "execution_count": 30,
   "id": "451db192",
   "metadata": {},
   "outputs": [
    {
     "name": "stdout",
     "output_type": "stream",
     "text": [
      "Average pixel value for all images is:  244.32868270496706\n",
      "Average standard deviation of pixel values for all images is:  6.770464078397775\n"
     ]
    }
   ],
   "source": [
    "meanblank,stdblank = mean_std_pixel(blank_dir) # Getting the mean and std from blank images"
   ]
  },
  {
   "cell_type": "code",
   "execution_count": null,
   "id": "c38eda90",
   "metadata": {},
   "outputs": [],
   "source": [
    "bmean = np.mean(meanblank) # Getting the average value for mean\n",
    "bstd = np.mean(stdblank) # Getting the average value for std\n",
    "print(\"Average pixel value\",bmean) # Results\n",
    "print(\"Average Standard Deviation\",bstd) # Results"
   ]
  },
  {
   "cell_type": "markdown",
   "id": "f4ec8eb2",
   "metadata": {},
   "source": [
    "#### Partial Images"
   ]
  },
  {
   "cell_type": "code",
   "execution_count": null,
   "id": "77b332d8",
   "metadata": {},
   "outputs": [],
   "source": [
    "meanpartial,stdpartial = mean_std_pixel(partial_dir) # Getting the mean and std from partial images"
   ]
  },
  {
   "cell_type": "code",
   "execution_count": null,
   "id": "5d175e9b",
   "metadata": {},
   "outputs": [],
   "source": [
    "ptmean = np.mean(meanpartial) # Getting the average value for mean\n",
    "ptstd = np.mean(stdpartial) # Getting the average value for std\n",
    "print(\"Mean of partial images =\",ptmean) # Results\n",
    "print(\"Standard Deviation of partial images =\",ptstd) # Results"
   ]
  },
  {
   "cell_type": "code",
   "execution_count": null,
   "id": "4beea034",
   "metadata": {},
   "outputs": [],
   "source": []
  }
 ],
 "metadata": {
  "kernelspec": {
   "display_name": "Python 3 (ipykernel)",
   "language": "python",
   "name": "python3"
  },
  "language_info": {
   "codemirror_mode": {
    "name": "ipython",
    "version": 3
   },
   "file_extension": ".py",
   "mimetype": "text/x-python",
   "name": "python",
   "nbconvert_exporter": "python",
   "pygments_lexer": "ipython3",
   "version": "3.9.7"
  },
  "vscode": {
   "interpreter": {
    "hash": "f99ce459c7a0f9093dec66807a6e7241d1f758b2e574ff2d27df5e1d05a50f5b"
   }
  }
 },
 "nbformat": 4,
 "nbformat_minor": 5
}
