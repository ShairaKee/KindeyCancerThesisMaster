{
 "cells": [
  {
   "cell_type": "code",
   "execution_count": 4,
   "id": "87581735",
   "metadata": {},
   "outputs": [],
   "source": [
    "import os\n",
    "openslide_path = r\"C:\\Users\\aaron\\openslide-win64-20171122\\openslide-win64-20171122\\bin\"\n",
    "os.environ['PATH'] = openslide_path + \";\" + os.environ['PATH']\n",
    "from openslide import open_slide\n",
    "import openslide\n",
    "from PIL import Image\n",
    "import numpy as np\n",
    "from matplotlib import pyplot as plt\n",
    "%matplotlib inline\n",
    "from openslide.deepzoom import DeepZoomGenerator #For tiling and zoom\n",
    "from NormHnE import norm_HnE\n",
    "import tifffile as tiff"
   ]
  },
  {
   "cell_type": "code",
   "execution_count": 30,
   "id": "bbda8782",
   "metadata": {},
   "outputs": [],
   "source": [
    "slide = open_slide(\"D:/Downloads/Grades Folder/SVS-20221218T164716Z-001/SVS/TCGA-2Z-A9JO-01A-01-TS1.6DC87048-FE1E-4795-959F-5AF85DECB6CE.svs\") #opening slide using openslide"
   ]
  },
  {
   "cell_type": "code",
   "execution_count": 31,
   "id": "daa584ed",
   "metadata": {},
   "outputs": [],
   "source": [
    "tiles = DeepZoomGenerator(slide, tile_size=1000, overlap=0, limit_bounds=False) # calling deepzoom generator to zoom in to the slide into a 1000x1000 pixel size"
   ]
  },
  {
   "cell_type": "code",
   "execution_count": 32,
   "id": "ec1712c7",
   "metadata": {},
   "outputs": [
    {
     "data": {
      "text/plain": [
       "18"
      ]
     },
     "execution_count": 32,
     "metadata": {},
     "output_type": "execute_result"
    }
   ],
   "source": [
    "tiles.level_count # counting how many levels are present in the deepzoomed slide"
   ]
  },
  {
   "cell_type": "code",
   "execution_count": 33,
   "id": "c308827a",
   "metadata": {},
   "outputs": [],
   "source": [
    "cols,rows = tiles.level_tiles[10] # dividing the max tile level into its rows and columns"
   ]
  },
  {
   "cell_type": "code",
   "execution_count": 34,
   "id": "cc20d6d3",
   "metadata": {},
   "outputs": [],
   "source": [
    "for row in range(rows): # looping over every single row\n",
    "        for col in range(cols): #looping over every single column\n",
    "            tile_name = str(col) + \"_\" + str(row) # creating tile name based on column_row number\n",
    "            #tile_name = os.path.join(tile_dir, '%d_%d' % (col, row))\n",
    "            #print(\"Now processing tile with title: \", tile_name)\n",
    "            temp_tile = tiles.get_tile(10, (col, row)) # getting all the tiles in the highes level tile\n",
    "            temp_tile_RGB = temp_tile.convert('RGB') # converting to rgb since some images may be in rgba\n",
    "            temp_tile_np = np.array(temp_tile_RGB) # converting the image into an array\n",
    "        \n",
    "            if temp_tile_np.mean() < 200 and temp_tile_np.std() > 50: # using the mean and std generated from blank_partial_good to indicate which tiles to save\n",
    "                print(\"Processing tile number:\", tile_name)\n",
    "                norm_img, H_img, E_img = norm_HnE(temp_tile_np, Io=240, alpha=1, beta=0.15) # Calling the norm H&E package\n",
    "                #Save the norm tile, H and E tiles      \n",
    "                tiff.imsave(\"D:/Downloads/Grades Folder/SVS-20221218T164716Z-001/SVS/A9JO/\"+tile_name + \"_norm.tif\", norm_img) # Saving all the H files\n",
    "                tiff.imsave(\"D:/Downloads/Grades Folder/SVS-20221218T164716Z-001/SVS/A9JO/\"+tile_name + \"_H.tif\", H_img) # Saving all the E files"
   ]
  },
  {
   "cell_type": "code",
   "execution_count": 8,
   "id": "370d5a21",
   "metadata": {
    "scrolled": true
   },
   "outputs": [
    {
     "name": "stdout",
     "output_type": "stream",
     "text": [
      "[]\n",
      "['TCGA-2Z-A9JP-01A-01-TS1.C3BF2309-AE46-49D8-B372-E43CD8C90C20.svs']\n",
      "Processing tile number: 0_0 TCGA-2Z-A9JP-01A-01-TS1.C3BF2309-AE46-49D8-B372-E43CD8C90C20.svs\n",
      "Processing tile number: 1_0 TCGA-2Z-A9JP-01A-01-TS1.C3BF2309-AE46-49D8-B372-E43CD8C90C20.svs\n",
      "Processing tile number: 2_0 TCGA-2Z-A9JP-01A-01-TS1.C3BF2309-AE46-49D8-B372-E43CD8C90C20.svs\n",
      "Processing tile number: 3_0 TCGA-2Z-A9JP-01A-01-TS1.C3BF2309-AE46-49D8-B372-E43CD8C90C20.svs\n",
      "['TCGA-2K-A9WE-01A-01-TS1.E965A4BC-62F7-4973-9979-6870A4A247A1.svs']\n",
      "Processing tile number: 0_0 TCGA-2K-A9WE-01A-01-TS1.E965A4BC-62F7-4973-9979-6870A4A247A1.svs\n",
      "Processing tile number: 1_0 TCGA-2K-A9WE-01A-01-TS1.E965A4BC-62F7-4973-9979-6870A4A247A1.svs\n",
      "Processing tile number: 2_0 TCGA-2K-A9WE-01A-01-TS1.E965A4BC-62F7-4973-9979-6870A4A247A1.svs\n",
      "Processing tile number: 3_0 TCGA-2K-A9WE-01A-01-TS1.E965A4BC-62F7-4973-9979-6870A4A247A1.svs\n",
      "Processing tile number: 0_1 TCGA-2K-A9WE-01A-01-TS1.E965A4BC-62F7-4973-9979-6870A4A247A1.svs\n"
     ]
    },
    {
     "name": "stderr",
     "output_type": "stream",
     "text": [
      "C:\\Users\\aaron\\anaconda3\\lib\\site-packages\\numpy\\lib\\function_base.py:380: RuntimeWarning: Mean of empty slice.\n",
      "  avg = a.mean(axis)\n",
      "C:\\Users\\aaron\\anaconda3\\lib\\site-packages\\numpy\\core\\_methods.py:180: RuntimeWarning: invalid value encountered in true_divide\n",
      "  ret = um.true_divide(\n",
      "C:\\Users\\aaron\\NormHnE.py:65: RuntimeWarning: Degrees of freedom <= 0 for slice\n",
      "  eigvals, eigvecs = np.linalg.eigh(np.cov(ODhat.T))\n",
      "C:\\Users\\aaron\\anaconda3\\lib\\site-packages\\numpy\\lib\\function_base.py:2493: RuntimeWarning: divide by zero encountered in true_divide\n",
      "  c *= np.true_divide(1, fact)\n",
      "C:\\Users\\aaron\\anaconda3\\lib\\site-packages\\numpy\\lib\\function_base.py:2493: RuntimeWarning: invalid value encountered in multiply\n",
      "  c *= np.true_divide(1, fact)\n"
     ]
    },
    {
     "ename": "LinAlgError",
     "evalue": "Eigenvalues did not converge",
     "output_type": "error",
     "traceback": [
      "\u001b[1;31m---------------------------------------------------------------------------\u001b[0m",
      "\u001b[1;31mLinAlgError\u001b[0m                               Traceback (most recent call last)",
      "\u001b[1;32m~\\AppData\\Local\\Temp/ipykernel_11212/3571102160.py\u001b[0m in \u001b[0;36m<module>\u001b[1;34m\u001b[0m\n\u001b[0;32m     22\u001b[0m \u001b[1;33m\u001b[0m\u001b[0m\n\u001b[0;32m     23\u001b[0m                 \u001b[0mprint\u001b[0m\u001b[1;33m(\u001b[0m\u001b[1;34m\"Processing tile number:\"\u001b[0m\u001b[1;33m,\u001b[0m \u001b[0mtile_name\u001b[0m\u001b[1;33m,\u001b[0m\u001b[0mfname\u001b[0m\u001b[1;33m)\u001b[0m\u001b[1;33m\u001b[0m\u001b[1;33m\u001b[0m\u001b[0m\n\u001b[1;32m---> 24\u001b[1;33m                 \u001b[0mnorm_img\u001b[0m\u001b[1;33m,\u001b[0m \u001b[0mH_img\u001b[0m\u001b[1;33m,\u001b[0m \u001b[0mE_img\u001b[0m \u001b[1;33m=\u001b[0m \u001b[0mnorm_HnE\u001b[0m\u001b[1;33m(\u001b[0m\u001b[0mtemp_tile_np\u001b[0m\u001b[1;33m,\u001b[0m \u001b[0mIo\u001b[0m\u001b[1;33m=\u001b[0m\u001b[1;36m240\u001b[0m\u001b[1;33m,\u001b[0m \u001b[0malpha\u001b[0m\u001b[1;33m=\u001b[0m\u001b[1;36m1\u001b[0m\u001b[1;33m,\u001b[0m \u001b[0mbeta\u001b[0m\u001b[1;33m=\u001b[0m\u001b[1;36m0.15\u001b[0m\u001b[1;33m)\u001b[0m \u001b[1;31m# Calling the norm H&E packages\u001b[0m\u001b[1;33m\u001b[0m\u001b[1;33m\u001b[0m\u001b[0m\n\u001b[0m\u001b[0;32m     25\u001b[0m                 \u001b[0mtiff\u001b[0m\u001b[1;33m.\u001b[0m\u001b[0mimsave\u001b[0m\u001b[1;33m(\u001b[0m\u001b[0mnorml_img\u001b[0m\u001b[1;33m+\u001b[0m\u001b[0mtile_name\u001b[0m \u001b[1;33m+\u001b[0m \u001b[1;34m\"_norm.tif\"\u001b[0m\u001b[1;33m,\u001b[0m \u001b[0mnorm_img\u001b[0m\u001b[1;33m)\u001b[0m \u001b[1;31m# Saving all the norm tiles\u001b[0m\u001b[1;33m\u001b[0m\u001b[1;33m\u001b[0m\u001b[0m\n\u001b[0;32m     26\u001b[0m                 \u001b[0mtiff\u001b[0m\u001b[1;33m.\u001b[0m\u001b[0mimsave\u001b[0m\u001b[1;33m(\u001b[0m\u001b[0mHl_img\u001b[0m\u001b[1;33m+\u001b[0m\u001b[0mtile_name\u001b[0m \u001b[1;33m+\u001b[0m \u001b[1;34m\"_H.tif\"\u001b[0m\u001b[1;33m,\u001b[0m \u001b[0mH_img\u001b[0m\u001b[1;33m)\u001b[0m \u001b[1;31m# Saving all the norm tiles\u001b[0m\u001b[1;33m\u001b[0m\u001b[1;33m\u001b[0m\u001b[0m\n",
      "\u001b[1;32m~\\NormHnE.py\u001b[0m in \u001b[0;36mnorm_HnE\u001b[1;34m(img, Io, alpha, beta)\u001b[0m\n\u001b[0;32m     63\u001b[0m     \u001b[1;31m#Estimate covariance matrix of ODhat (transposed)\u001b[0m\u001b[1;33m\u001b[0m\u001b[1;33m\u001b[0m\u001b[0m\n\u001b[0;32m     64\u001b[0m     \u001b[1;31m# and then compute eigen values & eigenvectors.\u001b[0m\u001b[1;33m\u001b[0m\u001b[1;33m\u001b[0m\u001b[0m\n\u001b[1;32m---> 65\u001b[1;33m     \u001b[0meigvals\u001b[0m\u001b[1;33m,\u001b[0m \u001b[0meigvecs\u001b[0m \u001b[1;33m=\u001b[0m \u001b[0mnp\u001b[0m\u001b[1;33m.\u001b[0m\u001b[0mlinalg\u001b[0m\u001b[1;33m.\u001b[0m\u001b[0meigh\u001b[0m\u001b[1;33m(\u001b[0m\u001b[0mnp\u001b[0m\u001b[1;33m.\u001b[0m\u001b[0mcov\u001b[0m\u001b[1;33m(\u001b[0m\u001b[0mODhat\u001b[0m\u001b[1;33m.\u001b[0m\u001b[0mT\u001b[0m\u001b[1;33m)\u001b[0m\u001b[1;33m)\u001b[0m\u001b[1;33m\u001b[0m\u001b[1;33m\u001b[0m\u001b[0m\n\u001b[0m\u001b[0;32m     66\u001b[0m \u001b[1;33m\u001b[0m\u001b[0m\n\u001b[0;32m     67\u001b[0m \u001b[1;33m\u001b[0m\u001b[0m\n",
      "\u001b[1;32m<__array_function__ internals>\u001b[0m in \u001b[0;36meigh\u001b[1;34m(*args, **kwargs)\u001b[0m\n",
      "\u001b[1;32m~\\anaconda3\\lib\\site-packages\\numpy\\linalg\\linalg.py\u001b[0m in \u001b[0;36meigh\u001b[1;34m(a, UPLO)\u001b[0m\n\u001b[0;32m   1468\u001b[0m \u001b[1;33m\u001b[0m\u001b[0m\n\u001b[0;32m   1469\u001b[0m     \u001b[0msignature\u001b[0m \u001b[1;33m=\u001b[0m \u001b[1;34m'D->dD'\u001b[0m \u001b[1;32mif\u001b[0m \u001b[0misComplexType\u001b[0m\u001b[1;33m(\u001b[0m\u001b[0mt\u001b[0m\u001b[1;33m)\u001b[0m \u001b[1;32melse\u001b[0m \u001b[1;34m'd->dd'\u001b[0m\u001b[1;33m\u001b[0m\u001b[1;33m\u001b[0m\u001b[0m\n\u001b[1;32m-> 1470\u001b[1;33m     \u001b[0mw\u001b[0m\u001b[1;33m,\u001b[0m \u001b[0mvt\u001b[0m \u001b[1;33m=\u001b[0m \u001b[0mgufunc\u001b[0m\u001b[1;33m(\u001b[0m\u001b[0ma\u001b[0m\u001b[1;33m,\u001b[0m \u001b[0msignature\u001b[0m\u001b[1;33m=\u001b[0m\u001b[0msignature\u001b[0m\u001b[1;33m,\u001b[0m \u001b[0mextobj\u001b[0m\u001b[1;33m=\u001b[0m\u001b[0mextobj\u001b[0m\u001b[1;33m)\u001b[0m\u001b[1;33m\u001b[0m\u001b[1;33m\u001b[0m\u001b[0m\n\u001b[0m\u001b[0;32m   1471\u001b[0m     \u001b[0mw\u001b[0m \u001b[1;33m=\u001b[0m \u001b[0mw\u001b[0m\u001b[1;33m.\u001b[0m\u001b[0mastype\u001b[0m\u001b[1;33m(\u001b[0m\u001b[0m_realType\u001b[0m\u001b[1;33m(\u001b[0m\u001b[0mresult_t\u001b[0m\u001b[1;33m)\u001b[0m\u001b[1;33m,\u001b[0m \u001b[0mcopy\u001b[0m\u001b[1;33m=\u001b[0m\u001b[1;32mFalse\u001b[0m\u001b[1;33m)\u001b[0m\u001b[1;33m\u001b[0m\u001b[1;33m\u001b[0m\u001b[0m\n\u001b[0;32m   1472\u001b[0m     \u001b[0mvt\u001b[0m \u001b[1;33m=\u001b[0m \u001b[0mvt\u001b[0m\u001b[1;33m.\u001b[0m\u001b[0mastype\u001b[0m\u001b[1;33m(\u001b[0m\u001b[0mresult_t\u001b[0m\u001b[1;33m,\u001b[0m \u001b[0mcopy\u001b[0m\u001b[1;33m=\u001b[0m\u001b[1;32mFalse\u001b[0m\u001b[1;33m)\u001b[0m\u001b[1;33m\u001b[0m\u001b[1;33m\u001b[0m\u001b[0m\n",
      "\u001b[1;32m~\\anaconda3\\lib\\site-packages\\numpy\\linalg\\linalg.py\u001b[0m in \u001b[0;36m_raise_linalgerror_eigenvalues_nonconvergence\u001b[1;34m(err, flag)\u001b[0m\n\u001b[0;32m     92\u001b[0m \u001b[1;33m\u001b[0m\u001b[0m\n\u001b[0;32m     93\u001b[0m \u001b[1;32mdef\u001b[0m \u001b[0m_raise_linalgerror_eigenvalues_nonconvergence\u001b[0m\u001b[1;33m(\u001b[0m\u001b[0merr\u001b[0m\u001b[1;33m,\u001b[0m \u001b[0mflag\u001b[0m\u001b[1;33m)\u001b[0m\u001b[1;33m:\u001b[0m\u001b[1;33m\u001b[0m\u001b[1;33m\u001b[0m\u001b[0m\n\u001b[1;32m---> 94\u001b[1;33m     \u001b[1;32mraise\u001b[0m \u001b[0mLinAlgError\u001b[0m\u001b[1;33m(\u001b[0m\u001b[1;34m\"Eigenvalues did not converge\"\u001b[0m\u001b[1;33m)\u001b[0m\u001b[1;33m\u001b[0m\u001b[1;33m\u001b[0m\u001b[0m\n\u001b[0m\u001b[0;32m     95\u001b[0m \u001b[1;33m\u001b[0m\u001b[0m\n\u001b[0;32m     96\u001b[0m \u001b[1;32mdef\u001b[0m \u001b[0m_raise_linalgerror_svd_nonconvergence\u001b[0m\u001b[1;33m(\u001b[0m\u001b[0merr\u001b[0m\u001b[1;33m,\u001b[0m \u001b[0mflag\u001b[0m\u001b[1;33m)\u001b[0m\u001b[1;33m:\u001b[0m\u001b[1;33m\u001b[0m\u001b[1;33m\u001b[0m\u001b[0m\n",
      "\u001b[1;31mLinAlgError\u001b[0m: Eigenvalues did not converge"
     ]
    }
   ],
   "source": [
    "src_dir = \"E:/20Final/\" # Whole Slide Images directory\n",
    "ot_dir = \"D:/FINALF/\" # Destination of Tiled files\n",
    "for (dirpath, dirnames, filenames) in os.walk(src_dir): # Checking WSI directory for all files\n",
    "    print(filenames)\n",
    "    for fname in filenames: # Getting filenames\n",
    "        norml_img=os.path.join(ot_dir+fname+\"/Norm/\") # Creating filename for generated norm images\n",
    "        Hl_img=os.path.join(ot_dir+fname+\"/H/\") # Creating filename for generated norm images\n",
    "        slide = open_slide(os.path.join(src_dir+fname+\"/\"+fname)) # Opening the slide based on the filename from the WSI folder\n",
    "        tiles = DeepZoomGenerator(slide, tile_size=1000, overlap=0, limit_bounds=False) # calling deepzoom generator to zoom in to the slide into a 1000x1000 pixel size\n",
    "        x=tiles.level_count # getting max tile level\n",
    "        cols,rows = tiles.level_tiles[12] # Splitting tiles into columns and rows\n",
    "        \n",
    "        for row in range(rows): # looping over every single row\n",
    "            for col in range(cols): # looping over every single column\n",
    "                tile_name = str(col) + \"_\" + str(row) # Creating filename for generated tile\n",
    "                #tile_name = os.path.join(tile_dir, '%d_%d' % (col, row))\n",
    "                #print(\"Now processing tile with title: \", tile_name)\n",
    "                temp_tile = tiles.get_tile(12, (col, row)) # getting all the tiles in the highest level tile based on columns and rows\n",
    "                temp_tile_RGB = temp_tile.convert('RGB') # converting to rgb since some images may be in rgba\n",
    "                temp_tile_np = np.array(temp_tile_RGB) # converting the image into an array\n",
    "        \n",
    "        \n",
    "                print(\"Processing tile number:\", tile_name,fname) \n",
    "                norm_img, H_img, E_img = norm_HnE(temp_tile_np, Io=240, alpha=1, beta=0.15) # Calling the norm H&E packages      \n",
    "                tiff.imsave(norml_img+tile_name + \"_norm.tif\", norm_img) # Saving all the norm tiles\n",
    "                tiff.imsave(Hl_img+tile_name + \"_H.tif\", H_img) # Saving all the norm tiles\n",
    "                    \n",
    "            \n",
    "                "
   ]
  },
  {
   "cell_type": "code",
   "execution_count": 2,
   "id": "dc342529",
   "metadata": {},
   "outputs": [
    {
     "name": "stdout",
     "output_type": "stream",
     "text": [
      "TCGA-2Z-A9JP-01A-01-TS1.C3BF2309-AE46-49D8-B372-E43CD8C90C20.svs\n",
      "TCGA-2K-A9WE-01A-01-TS1.E965A4BC-62F7-4973-9979-6870A4A247A1.svs\n",
      "TCGA-2Z-A9J1-01A-01-TS1.2FB4FC68-2723-4F4D-A838-9403E49DA63D.svs\n",
      "TCGA-2Z-A9J2-01A-01-TS1.D233E99B-8340-45EF-BD62-76718FD7B67C.svs\n",
      "TCGA-2Z-A9J3-01A-01-TS1.6EFD7566-30F3-46A0-BBD4-AA6FF2ACBC0A.svs\n",
      "TCGA-2Z-A9J5-01A-02-TS2.219F4BC7-85E5-4989-84E5-1E8F7D12B28D.svs\n",
      "TCGA-2Z-A9J6-01A-01-TS1.C50B97C0-C145-4939-BECD-587F9B482E01.svs\n",
      "TCGA-2Z-A9J7-01A-01-TS1.D2176F0C-E9B1-4632-A2CD-63CF38A1E73A.svs\n",
      "TCGA-2Z-A9J8-01A-01-TS1.1AFD96B6-CB1C-4161-BC3D-306E368A054D.svs\n",
      "TCGA-2Z-A9J9-01A-01-TS1.EF0FBEC0-7D56-4648-AB41-08E483636D9C.svs\n",
      "TCGA-2Z-A9JE-01A-01-TS1.FD8E09DF-D049-4374-AE6D-8A0C27B2BBF0.svs\n",
      "TCGA-2Z-A9JG-01A-01-TS1.08510C04-9A3C-451D-88A2-90F899A36A99.svs\n",
      "TCGA-2Z-A9JI-01A-01-TS1.7D13203A-E463-4FB7-86D5-4198408263B4.svs\n",
      "TCGA-2Z-A9JJ-01A-01-TS1.B3D0E11F-F9DF-450B-B605-54EAEBE063A7.svs\n",
      "TCGA-2Z-A9JK-01A-01-TS1.13B13EB1-C0D1-41FF-86C5-80422490E330.svs\n",
      "TCGA-2Z-A9JL-01A-01-TS1.8CEFCDA6-CDAB-411D-B5AF-23BB071F48F1.svs\n",
      "TCGA-2Z-A9JM-01A-01-TS1.BF532F50-3AC1-4B5A-AC68-4BE2E727070C.svs\n",
      "TCGA-2Z-A9JO-01A-01-TS1.6DC87048-FE1E-4795-959F-5AF85DECB6CE.svs\n",
      "TCGA-2Z-A9JD-01A-01-TS1.4ACF7A4C-CE0E-40D3-841E-84B1EA3E55AA.svs\n",
      "TCGA-2Z-A9JN-01A-02-TS2.22D09D71-A1A9-4B40-971A-D272CEE9EF79.svs\n"
     ]
    }
   ],
   "source": [
    "import glob\n",
    "import random\n",
    "import os,shutil\n",
    "\n",
    "src_dir = \"E:/20Final/\" # Opening the directory with the tiled files\n",
    "for file in os.listdir(src_dir): # looping over all the folder names in the directory\n",
    "    os.makedirs(os.path.join(\"D:/FINALF/\",file)) # Creating new folders on a different directory based on the file names\n",
    "    print(file)\n"
   ]
  },
  {
   "cell_type": "code",
   "execution_count": null,
   "id": "9d802f5a",
   "metadata": {
    "scrolled": true
   },
   "outputs": [],
   "source": [
    "import shutil, random, os\n",
    "import fnmatch\n",
    "for file in os.listdir('D:/FinalN/'): # Going over all the files in Tiles directory\n",
    "    dirpath = os.path.join('D:/FinalN/'+file+'/Norm') # Creating file names of norm images\n",
    "    destDirectory = 'D:/Level0/' # Destination directory\n",
    "    count = len(fnmatch.filter(os.listdir(dirpath), '*.*')) # Counting all the available files per folder\n",
    "    print('File Count:', count)\n",
    "    if count >= 20: # if folder has more than 20 files proceed with the code\n",
    "        filenames = random.sample(os.listdir(dirpath), 20) # Getting 20 random files from a folder    \n",
    "        for fname in filenames: # Looping over the 20 selected files\n",
    "            srcpath = os.path.join(dirpath, fname) # Creating folder path for the 20 files\n",
    "            shutil.copy(srcpath, os.path.join(destDirectory,file)) # Copying the files into the destination folder\n",
    "    else: # else if folder has less than 20 files stop the code\n",
    "        print(\"noway\") "
   ]
  }
 ],
 "metadata": {
  "kernelspec": {
   "display_name": "Python 3 (ipykernel)",
   "language": "python",
   "name": "python3"
  },
  "language_info": {
   "codemirror_mode": {
    "name": "ipython",
    "version": 3
   },
   "file_extension": ".py",
   "mimetype": "text/x-python",
   "name": "python",
   "nbconvert_exporter": "python",
   "pygments_lexer": "ipython3",
   "version": "3.9.7"
  },
  "vscode": {
   "interpreter": {
    "hash": "f99ce459c7a0f9093dec66807a6e7241d1f758b2e574ff2d27df5e1d05a50f5b"
   }
  }
 },
 "nbformat": 4,
 "nbformat_minor": 5
}
